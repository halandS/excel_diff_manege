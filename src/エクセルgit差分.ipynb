{
 "cells": [
  {
   "cell_type": "markdown",
   "metadata": {},
   "source": [
    "### 変更点をテキストファイルに落とす実装"
   ]
  },
  {
   "cell_type": "markdown",
   "metadata": {},
   "source": [
    "### 現在の問題点\n",
    "\n",
    "* csv,txtファイルに書き出した時に、どのファイルごとの差分を参照してるかわからない\n",
    "* get_diff(差分を取得する関数)における２重for文が将来的に処理重くなりそう\n",
    "* すでに存在する行と列の間にデータが追加された場合、本来の差分と異なるものになる"
   ]
  },
  {
   "cell_type": "code",
   "execution_count": 6,
   "metadata": {},
   "outputs": [],
   "source": [
    "import pandas as pd\n",
    "\n",
    "# データの読み込み\n",
    "git_check1 = pd.read_excel('/Users/estyle-119/Documents/エクセル差分/data/競合する変更のあるサンプル.xlsx',sheet_name=0)\n",
    "git_check2 = pd.read_excel('/Users/estyle-119/Documents/エクセル差分/data/競合する変更のあるサンプル.xlsx',sheet_name=1)\n",
    "git_check3 = pd.read_excel('/Users/estyle-119/Documents/エクセル差分/data/競合する変更のあるサンプル.xlsx',sheet_name=2)"
   ]
  },
  {
   "cell_type": "code",
   "execution_count": 7,
   "metadata": {},
   "outputs": [],
   "source": [
    "# 差分を取得するモジュールの読み込み\n",
    "import checkdiff"
   ]
  },
  {
   "cell_type": "code",
   "execution_count": 8,
   "metadata": {},
   "outputs": [
    {
     "name": "stdout",
     "output_type": "stream",
     "text": [
      "check.csvとして出力\n"
     ]
    }
   ],
   "source": [
    "# 1枚目から２枚目の差分出力 csv\n",
    "checkdiff.check_diff(git_check1,git_check2,'csv')"
   ]
  },
  {
   "cell_type": "code",
   "execution_count": 9,
   "metadata": {},
   "outputs": [
    {
     "name": "stdout",
     "output_type": "stream",
     "text": [
      "check.txtとして出力\n"
     ]
    }
   ],
   "source": [
    "# １枚目から２枚目の差分出力 txt\n",
    "checkdiff.check_diff(git_check1,git_check2,'txt')"
   ]
  },
  {
   "cell_type": "code",
   "execution_count": 10,
   "metadata": {},
   "outputs": [
    {
     "name": "stdout",
     "output_type": "stream",
     "text": [
      "check_1.csvとして出力\n"
     ]
    }
   ],
   "source": [
    "# 2枚目から３枚目の差分出力 csv\n",
    "checkdiff.check_diff(git_check2,git_check3,'csv')"
   ]
  }
 ],
 "metadata": {
  "kernelspec": {
   "display_name": "myzone",
   "language": "python",
   "name": "python3"
  },
  "language_info": {
   "codemirror_mode": {
    "name": "ipython",
    "version": 3
   },
   "file_extension": ".py",
   "mimetype": "text/x-python",
   "name": "python",
   "nbconvert_exporter": "python",
   "pygments_lexer": "ipython3",
   "version": "3.11.3"
  },
  "orig_nbformat": 4
 },
 "nbformat": 4,
 "nbformat_minor": 2
}
